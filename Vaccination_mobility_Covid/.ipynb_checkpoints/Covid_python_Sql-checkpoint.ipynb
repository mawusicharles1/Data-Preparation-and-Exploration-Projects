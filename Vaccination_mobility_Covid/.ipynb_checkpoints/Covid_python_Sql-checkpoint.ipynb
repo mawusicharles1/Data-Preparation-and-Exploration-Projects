{
 "cells": [
  {
   "cell_type": "markdown",
   "id": "9ac66688",
   "metadata": {},
   "source": [
    "# Corona Virus (Covid-19) Data Processing \n",
    "## By: Charles MAWUSI\n"
   ]
  },
  {
   "cell_type": "code",
   "execution_count": 69,
   "id": "56c65854",
   "metadata": {},
   "outputs": [
    {
     "name": "stdout",
     "output_type": "stream",
     "text": [
      "Requirement already satisfied: mysql-connector-python in /Library/Frameworks/Python.framework/Versions/3.12/lib/python3.12/site-packages (9.0.0)\n"
     ]
    }
   ],
   "source": [
    "! pip3 install mysql-connector-python\n",
    "import getpass\n",
    "import mysql.connector \n",
    "from mysql.connector import Error \n",
    "import pandas as pd \n"
   ]
  },
  {
   "cell_type": "code",
   "execution_count": 33,
   "id": "3f441ddc-3704-4fb8-b5d5-79ca22b462dc",
   "metadata": {},
   "outputs": [
    {
     "name": "stdin",
     "output_type": "stream",
     "text": [
      "Enter password:  ········\n"
     ]
    },
    {
     "name": "stdout",
     "output_type": "stream",
     "text": [
      "Connected succesfully to MySQL Server  8.0.29\n",
      "You are connnected to the Database: ('covid',)\n"
     ]
    }
   ],
   "source": [
    "## Using the defined Function to connect to server and database~COVID\n",
    "\n",
    "def sql_db_connnection (name_database, name_host, name_user, user_password): # function to connect to mysql server \n",
    "    try:\n",
    "        db_connection =mysql.connector.connect(\n",
    "        database=name_database,\n",
    "        host = name_host,\n",
    "        user =name_user,\n",
    "        password=user_password)\n",
    "        \n",
    "        if db_connection.is_connected():\n",
    "            db_connection_info=db_connection.get_server_info()\n",
    "            print(\"Connected succesfully to MySQL Server \", db_connection_info)\n",
    "            \n",
    "            cursor=db_connection.cursor()\n",
    "            cursor.execute(\"SELECT database();\") # shows the name of database\n",
    "            record=cursor.fetchone()\n",
    "            print(\"You are connnected to the Database:\", record)\n",
    "                 \n",
    "    except Error as e:\n",
    "        print(\"Error while connecting to\", e)\n",
    "    return db_connection\n",
    "\n",
    "# I define the necessary info to connect to server\n",
    "\n",
    "password=getpass.getpass(\"Enter password: \" )\n",
    "My_db_connection=sql_db_connnection(\"COVID\", \"localhost\",\"root\",password ) # my connected server "
   ]
  },
  {
   "cell_type": "code",
   "execution_count": 35,
   "id": "a44a3178",
   "metadata": {},
   "outputs": [],
   "source": [
    "# Define a function to read queries \n",
    "\n",
    "def read_queries(My_db_connection, query): \n",
    "    cursor=My_db_connection.cursor()\n",
    "    result=None\n",
    "    \n",
    "    try:\n",
    "        cursor.execute(query)\n",
    "        result=cursor.fetchall() ## This execute your own querry  \n",
    "        return result\n",
    "        print(\"Query executed succesfully\")    \n",
    "        \n",
    "    except Error as e:\n",
    "        print(\"Error while connecting to\", e)\n",
    "    "
   ]
  },
  {
   "cell_type": "code",
   "execution_count": 37,
   "id": "c8b22088",
   "metadata": {},
   "outputs": [
    {
     "name": "stdout",
     "output_type": "stream",
     "text": [
      "Connected succesfully to MySQL Server  8.0.29\n",
      "You are connnected to the Database: ('covid',)\n",
      "('covid_data_deaths',)\n",
      "('covid_data_mobility_trends',)\n",
      "('covid_data_vaccinations',)\n"
     ]
    }
   ],
   "source": [
    "## My Querries to check tables in database\n",
    "\n",
    "connection =sql_db_connnection(\"COVID\", \"localhost\",\"root\",\"Kodjofamous1\" )\n",
    "query_tables=\"\"\"SHOW TABLES;\"\"\"\n",
    "myresults =read_queries(connection, query_tables )\n",
    "for i in myresults:\n",
    "    print(i)\n",
    "\n",
    "    "
   ]
  },
  {
   "cell_type": "code",
   "execution_count": 97,
   "id": "f9ddd067",
   "metadata": {},
   "outputs": [],
   "source": [
    "# select table \n",
    "query = \"\"\" Select * from \n",
    "            covid_data_deaths\n",
    "            Limit 20; \n",
    "            \"\"\""
   ]
  },
  {
   "cell_type": "code",
   "execution_count": 107,
   "id": "5607f044",
   "metadata": {},
   "outputs": [
    {
     "data": {
      "text/plain": [
       "RangeIndex(start=0, stop=26, step=1)"
      ]
     },
     "execution_count": 107,
     "metadata": {},
     "output_type": "execute_result"
    }
   ],
   "source": [
    "covid_data_deaths = read_queries(connection, query)\n",
    "covid_data_deaths=pd.DataFrame ( covid_data)\n",
    "covid_data_deaths.columns"
   ]
  },
  {
   "cell_type": "code",
   "execution_count": null,
   "id": "2770dedd",
   "metadata": {},
   "outputs": [],
   "source": []
  },
  {
   "cell_type": "code",
   "execution_count": null,
   "id": "ff73fd3f-a575-4dc2-b45b-0e598577abc2",
   "metadata": {},
   "outputs": [],
   "source": []
  }
 ],
 "metadata": {
  "kernelspec": {
   "display_name": "Python 3 (ipykernel)",
   "language": "python",
   "name": "python3"
  },
  "language_info": {
   "codemirror_mode": {
    "name": "ipython",
    "version": 3
   },
   "file_extension": ".py",
   "mimetype": "text/x-python",
   "name": "python",
   "nbconvert_exporter": "python",
   "pygments_lexer": "ipython3",
   "version": "3.9.19"
  }
 },
 "nbformat": 4,
 "nbformat_minor": 5
}
